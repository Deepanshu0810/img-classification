{
 "cells": [
  {
   "cell_type": "code",
   "execution_count": 10,
   "metadata": {},
   "outputs": [
    {
     "name": "stdout",
     "output_type": "stream",
     "text": [
      "Overwriting app.py\n"
     ]
    }
   ],
   "source": [
    "%%writefile app.py\n",
    "import streamlit as st\n",
    "import numpy as np\n",
    "from skimage.io import imread\n",
    "from skimage.transform import resize\n",
    "from PIL import Image\n",
    "st.title('Image Classifier Using SVM')\n",
    "\n",
    "import pickle\n",
    "model = pickle.load(open('img_model.p','rb'))\n",
    "\n",
    "uploaded_file = st.file_uploader(\"Choose an image\",type=\"jpg\")\n",
    "if uploaded_file is not None:\n",
    "    img = Image.open(uploaded_file)\n",
    "    st.image(img,caption='Uploaded Image')\n",
    "\n",
    "    if st.button(\"PREDICT\"):\n",
    "        category = ['lotus flower','rose flower','daisy flower']\n",
    "        flat_data = []\n",
    "        img  = np.array(img)\n",
    "        img_resize = resize(img,(200,400,3))\n",
    "        flat_data.append(img_resize.flatten())\n",
    "        flat_data = np.array(flat_data)\n",
    "        print(img.shape)\n",
    "        y_out = model.predict(flat_data)\n",
    "        y_out = category[y_out[0]]\n",
    "        print(\"predicted :\",y_out)\n",
    "        st.write(y_out)"
   ]
  },
  {
   "cell_type": "code",
   "execution_count": null,
   "metadata": {},
   "outputs": [],
   "source": []
  }
 ],
 "metadata": {
  "kernelspec": {
   "display_name": "dev",
   "language": "python",
   "name": "python3"
  },
  "language_info": {
   "codemirror_mode": {
    "name": "ipython",
    "version": 3
   },
   "file_extension": ".py",
   "mimetype": "text/x-python",
   "name": "python",
   "nbconvert_exporter": "python",
   "pygments_lexer": "ipython3",
   "version": "3.9.13 (main, Oct 13 2022, 21:23:06) [MSC v.1916 64 bit (AMD64)]"
  },
  "orig_nbformat": 4,
  "vscode": {
   "interpreter": {
    "hash": "83610baacc65c486e4cc82293e976fe69993b283de4d7cc26188a1d82e09f6c6"
   }
  }
 },
 "nbformat": 4,
 "nbformat_minor": 2
}
